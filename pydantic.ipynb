{
 "cells": [
  {
   "cell_type": "markdown",
   "id": "c4b058be",
   "metadata": {},
   "source": [
    "#### Pydantic Basics: Creating and Using Models\n",
    "Pydantic models are the foundation of data validation in Python. They use Python type annotations to define the structure and validate data at runtime. Here's a detailed exploration of basic model creation with several examples.\n",
    "\n"
   ]
  },
  {
   "cell_type": "code",
   "execution_count": 5,
   "id": "0d269075",
   "metadata": {},
   "outputs": [],
   "source": [
    "from dataclasses import dataclass\n",
    "\n",
    "@dataclass\n",
    "class Person():\n",
    "    name:str\n",
    "    age:int\n",
    "    city:str"
   ]
  },
  {
   "cell_type": "code",
   "execution_count": 6,
   "id": "64708358",
   "metadata": {},
   "outputs": [
    {
     "name": "stdout",
     "output_type": "stream",
     "text": [
      "Person(name='Yen', age=35, city='Metz')\n"
     ]
    }
   ],
   "source": [
    "person=Person(name=\"Yen\",age=35,city=\"Metz\")\n",
    "print(person)"
   ]
  },
  {
   "cell_type": "code",
   "execution_count": 7,
   "id": "3d67b9b8",
   "metadata": {},
   "outputs": [
    {
     "name": "stdout",
     "output_type": "stream",
     "text": [
      "Person(name='Yen', age=35, city=35)\n"
     ]
    }
   ],
   "source": [
    "person=Person(name=\"Yen\",age=35,city=35)\n",
    "print(person)"
   ]
  },
  {
   "cell_type": "code",
   "execution_count": 8,
   "id": "072c9aaa",
   "metadata": {},
   "outputs": [],
   "source": [
    "## Pydantic\n",
    "from pydantic import BaseModel"
   ]
  },
  {
   "cell_type": "code",
   "execution_count": 9,
   "id": "a2882d55",
   "metadata": {},
   "outputs": [
    {
     "name": "stdout",
     "output_type": "stream",
     "text": [
      "name='Yen' age=35 city='Metz'\n"
     ]
    }
   ],
   "source": [
    "class Person1(BaseModel):\n",
    "    name:str\n",
    "    age:int\n",
    "    city:str\n",
    "\n",
    "person=Person1(name=\"Yen\",age=35,city=\"Metz\")\n",
    "print(person)"
   ]
  },
  {
   "cell_type": "code",
   "execution_count": 10,
   "id": "debbfb3e",
   "metadata": {},
   "outputs": [
    {
     "name": "stdout",
     "output_type": "stream",
     "text": [
      "name='Krish' age=35 city='Nancy'\n"
     ]
    }
   ],
   "source": [
    "person1=Person1(name=\"Krish\",age=35,city=\"Nancy\")\n",
    "print(person1)"
   ]
  },
  {
   "cell_type": "code",
   "execution_count": 11,
   "id": "364c4d3f",
   "metadata": {},
   "outputs": [
    {
     "name": "stdout",
     "output_type": "stream",
     "text": [
      "name='Yen' age=35 city='35'\n"
     ]
    }
   ],
   "source": [
    "person2=Person1(name=\"Yen\",age=35,city=\"35\")\n",
    "print(person2)"
   ]
  },
  {
   "cell_type": "markdown",
   "id": "4a865be7",
   "metadata": {},
   "source": [
    "#### 2. Model with Optional Fields\n",
    "Add optional fields using Python's Optional type:\n",
    "\n"
   ]
  },
  {
   "cell_type": "code",
   "execution_count": 12,
   "id": "7a0e2969",
   "metadata": {},
   "outputs": [],
   "source": [
    "from typing import Optional\n",
    "class Employee(BaseModel):\n",
    "    id:int\n",
    "    name:str\n",
    "    department:str\n",
    "    salary: Optional[float]=None #Optional with default value\n",
    "    is_active: Optional[bool]=True #optional field with default value\n",
    "\n",
    "    "
   ]
  },
  {
   "cell_type": "code",
   "execution_count": 13,
   "id": "ab394c56",
   "metadata": {},
   "outputs": [
    {
     "name": "stdout",
     "output_type": "stream",
     "text": [
      "id=1 name='paul' department='marketing' salary=None is_active=True\n"
     ]
    }
   ],
   "source": [
    "emp1=Employee(id=1,name=\"paul\",department=\"marketing\")\n",
    "print(emp1)"
   ]
  },
  {
   "cell_type": "code",
   "execution_count": 14,
   "id": "5cb398d2",
   "metadata": {},
   "outputs": [
    {
     "name": "stdout",
     "output_type": "stream",
     "text": [
      "id=2 name='paul' department='marketing' salary=30000.0 is_active=True\n"
     ]
    }
   ],
   "source": [
    "emp2=Employee(id=2,name=\"paul\",department=\"marketing\",salary=\"30000\")\n",
    "print(emp2)"
   ]
  },
  {
   "cell_type": "markdown",
   "id": "8bceaa0c",
   "metadata": {},
   "source": [
    "Definition:\n",
    "- Optional[type]: Indicates the field can be None\n",
    "\n",
    "- Default value (= None or = True): Makes the field optional\n",
    "\n",
    "- Required fields must still be provided\n",
    "\n",
    "- Pydantic validates types even for optional fields when values are provided"
   ]
  },
  {
   "cell_type": "code",
   "execution_count": 15,
   "id": "2f8d0f0c",
   "metadata": {},
   "outputs": [
    {
     "name": "stdout",
     "output_type": "stream",
     "text": [
      "id=2 name='Junior' department='CS' salary=30000.0 is_active=True\n"
     ]
    }
   ],
   "source": [
    "emp3=Employee(id=2,name=\"Junior\",department=\"CS\",salary=\"30000\",is_active=1)\n",
    "print(emp3)"
   ]
  },
  {
   "cell_type": "code",
   "execution_count": 16,
   "id": "bf1c44ea",
   "metadata": {},
   "outputs": [],
   "source": [
    "from typing import List\n",
    "\n",
    "class Classroom(BaseModel):\n",
    "    room_number:str\n",
    "    students: List[str] #List of strings\n",
    "    capacity:int"
   ]
  },
  {
   "cell_type": "code",
   "execution_count": 17,
   "id": "2d106620",
   "metadata": {},
   "outputs": [
    {
     "name": "stdout",
     "output_type": "stream",
     "text": [
      "room_number='A101' students=['Alice', 'Bob', 'Charlie'] capacity=30\n"
     ]
    }
   ],
   "source": [
    "# Create a classroom\n",
    "classroom = Classroom(\n",
    "    room_number=\"A101\",\n",
    "    students=(\"Alice\", \"Bob\", \"Charlie\"),\n",
    "    capacity=30\n",
    ")\n",
    "print(classroom)"
   ]
  },
  {
   "cell_type": "code",
   "execution_count": 18,
   "id": "0c30e32c",
   "metadata": {},
   "outputs": [
    {
     "data": {
      "text/plain": [
       "['Alice', 'Bob', 'Charlie']"
      ]
     },
     "execution_count": 18,
     "metadata": {},
     "output_type": "execute_result"
    }
   ],
   "source": [
    "list((\"Alice\", \"Bob\", \"Charlie\"))"
   ]
  },
  {
   "cell_type": "code",
   "execution_count": 19,
   "id": "07551ce6",
   "metadata": {},
   "outputs": [
    {
     "name": "stdout",
     "output_type": "stream",
     "text": [
      "room_number='A101' students=['Alice', '123', 'Charlie'] capacity=30\n"
     ]
    }
   ],
   "source": [
    "# Create a classroom\n",
    "classroom1 = Classroom(\n",
    "    room_number=\"A101\",\n",
    "    students=(\"Alice\", \"123\", \"Charlie\"),\n",
    "    capacity=30\n",
    ")\n",
    "print(classroom1)"
   ]
  },
  {
   "cell_type": "code",
   "execution_count": 20,
   "id": "a671f4e2",
   "metadata": {},
   "outputs": [
    {
     "name": "stdout",
     "output_type": "stream",
     "text": [
      "1 validation error for Classroom\n",
      "students.1\n",
      "  Input should be a valid string [type=string_type, input_value=123, input_type=int]\n",
      "    For further information visit https://errors.pydantic.dev/2.11/v/string_type\n"
     ]
    }
   ],
   "source": [
    "try:\n",
    "    invalid_val=Classroom(room_number=\"A1\",students=[\"Krish\",123],capacity=30)\n",
    "\n",
    "except Exception as e:\n",
    "    print(e)"
   ]
  },
  {
   "cell_type": "markdown",
   "id": "76876b1f",
   "metadata": {},
   "source": [
    "#### 4. Model with Nested Models\n",
    "Create complex structures with nested models:"
   ]
  },
  {
   "cell_type": "code",
   "execution_count": 21,
   "id": "b485c6a3",
   "metadata": {},
   "outputs": [],
   "source": [
    "from pydantic import BaseModel\n",
    "\n",
    "class Address(BaseModel):\n",
    "    street:str\n",
    "    city:str\n",
    "    zip_code:str\n",
    "\n",
    "class Customer(BaseModel):\n",
    "    customer_id:int\n",
    "    name:str\n",
    "    address:Address  ## Nested Model"
   ]
  },
  {
   "cell_type": "code",
   "execution_count": 22,
   "id": "b50dc51d",
   "metadata": {},
   "outputs": [
    {
     "name": "stdout",
     "output_type": "stream",
     "text": [
      "customer_id=1 name='junior' address=Address(street='Main street', city='Boston', zip_code='02108')\n"
     ]
    }
   ],
   "source": [
    "customer=Customer(customer_id=1,name=\"junior\",\n",
    "                  address={\"street\":\"Main street\",\"city\":\"Boston\",\"zip_code\":\"02108\"})\n",
    "\n",
    "print(customer)"
   ]
  },
  {
   "cell_type": "code",
   "execution_count": 23,
   "id": "497286a6",
   "metadata": {},
   "outputs": [
    {
     "name": "stdout",
     "output_type": "stream",
     "text": [
      "customer_id=1 name='Krish' address=Address(street='Main street', city='Paris', zip_code='02108')\n"
     ]
    }
   ],
   "source": [
    "customer=Customer(customer_id=1,name=\"Krish\",\n",
    "                  address={\"street\":\"Main street\",\"city\":\"Paris\",\"zip_code\":\"02108\"})\n",
    "\n",
    "print(customer)"
   ]
  },
  {
   "cell_type": "markdown",
   "id": "eaa1ef99",
   "metadata": {},
   "source": [
    "#### Pydantic Fields: Customization and Constraints\n",
    "\n",
    "The Field function in Pydantic enhances model fields beyond basic type hints by allowing you to specify validation rules, default values, aliases, and more. Here's a comprehensive tutorial with examples."
   ]
  },
  {
   "cell_type": "code",
   "execution_count": 24,
   "id": "6a2a2c51",
   "metadata": {},
   "outputs": [
    {
     "name": "stdout",
     "output_type": "stream",
     "text": [
      "name='Book' price=100.0 quantity=10\n"
     ]
    }
   ],
   "source": [
    "from pydantic import BaseModel,Field\n",
    "\n",
    "class Item(BaseModel):\n",
    "    name:str=Field(min_length=2,max_length=50)\n",
    "    price:float=Field(gt=0,le=500)  ## greater than 0 and less than or equal to 500\n",
    "    quantity:int=Field(ge=0)\n",
    "\n",
    "item=Item(name=\"Book\", price=100,quantity=10)\n",
    "print(item)"
   ]
  },
  {
   "cell_type": "code",
   "execution_count": 25,
   "id": "f651bd9a",
   "metadata": {},
   "outputs": [
    {
     "name": "stdout",
     "output_type": "stream",
     "text": [
      "username='alice' age=25 email='user@example.com'\n"
     ]
    }
   ],
   "source": [
    "class User(BaseModel):\n",
    "    username:str=Field(description=\"Unique username for the user\")\n",
    "    age:int=Field(default=18,description=\"User age default to 18 \")\n",
    "    email:str= Field(default_factory=lambda: \"user@example.com\",description=\"Default email address\")\n",
    "\n",
    "\n",
    "# Examples\n",
    "user1 = User(username=\"alice\", age=25)\n",
    "print(user1)\n",
    "\n",
    "\n"
   ]
  },
  {
   "cell_type": "code",
   "execution_count": 26,
   "id": "1cb1e653",
   "metadata": {},
   "outputs": [
    {
     "name": "stdout",
     "output_type": "stream",
     "text": [
      "username='bob' age=25 email='toto@domain.com'\n"
     ]
    }
   ],
   "source": [
    "user2 = User(username=\"bob\", age=25, email=\"toto@domain.com\")\n",
    "print(user2)"
   ]
  },
  {
   "cell_type": "code",
   "execution_count": 27,
   "id": "107b21d9",
   "metadata": {},
   "outputs": [
    {
     "data": {
      "text/plain": [
       "{'properties': {'username': {'description': 'Unique username for the user',\n",
       "   'title': 'Username',\n",
       "   'type': 'string'},\n",
       "  'age': {'default': 18,\n",
       "   'description': 'User age default to 18 ',\n",
       "   'title': 'Age',\n",
       "   'type': 'integer'},\n",
       "  'email': {'description': 'Default email address',\n",
       "   'title': 'Email',\n",
       "   'type': 'string'}},\n",
       " 'required': ['username'],\n",
       " 'title': 'User',\n",
       " 'type': 'object'}"
      ]
     },
     "execution_count": 27,
     "metadata": {},
     "output_type": "execute_result"
    }
   ],
   "source": [
    "User.model_json_schema()"
   ]
  },
  {
   "cell_type": "code",
   "execution_count": 28,
   "id": "52af8af4",
   "metadata": {},
   "outputs": [
    {
     "name": "stderr",
     "output_type": "stream",
     "text": [
      "C:\\Users\\p09276\\AppData\\Local\\Temp\\ipykernel_15272\\2926248541.py:1: PydanticDeprecatedSince20: The `schema` method is deprecated; use `model_json_schema` instead. Deprecated in Pydantic V2.0 to be removed in V3.0. See Pydantic V2 Migration Guide at https://errors.pydantic.dev/2.11/migration/\n",
      "  User.schema()\n"
     ]
    },
    {
     "data": {
      "text/plain": [
       "{'properties': {'username': {'description': 'Unique username for the user',\n",
       "   'title': 'Username',\n",
       "   'type': 'string'},\n",
       "  'age': {'default': 18,\n",
       "   'description': 'User age default to 18 ',\n",
       "   'title': 'Age',\n",
       "   'type': 'integer'},\n",
       "  'email': {'description': 'Default email address',\n",
       "   'title': 'Email',\n",
       "   'type': 'string'}},\n",
       " 'required': ['username'],\n",
       " 'title': 'User',\n",
       " 'type': 'object'}"
      ]
     },
     "execution_count": 28,
     "metadata": {},
     "output_type": "execute_result"
    }
   ],
   "source": [
    "User.schema()"
   ]
  },
  {
   "cell_type": "code",
   "execution_count": 29,
   "id": "46236deb",
   "metadata": {},
   "outputs": [
    {
     "name": "stdout",
     "output_type": "stream",
     "text": [
      "username='alice' email='data@domain.fr' password='12345678' age=25 bio=None created_at=datetime.datetime(2025, 5, 19, 11, 6, 29, 466541)\n",
      "username='alice123' email='alice@example.com' password='strongpass123' age=25 bio='Backend Developpeur' created_at=datetime.datetime(2025, 5, 19, 11, 6, 29, 467774)\n"
     ]
    }
   ],
   "source": [
    "from pydantic import BaseModel, Field, EmailStr, ValidationError\n",
    "from typing import Optional\n",
    "from datetime import datetime\n",
    "\n",
    "class UserPro(BaseModel):\n",
    "    username: str = Field(..., min_length=3)  # `ge` est pour les nombres, pas les chaînes\n",
    "    email: EmailStr = Field(default_factory=lambda: 'data@domain.fr')\n",
    "    password: str = Field(..., min_length=8)\n",
    "    age: Optional[int] = Field(default=None, ge=18)\n",
    "    bio: Optional[str] = None\n",
    "    created_at: datetime = Field(default_factory=datetime.now)\n",
    "\n",
    "# Exemple d'utilisation avec gestion des erreurs\n",
    "try:\n",
    "    user_pro_1 = UserPro(username=\"alice\", password=\"12345678\", age=25)\n",
    "    print(user_pro_1)\n",
    "except ValidationError as e:\n",
    "    print(e)\n",
    "\n",
    "user = UserPro(\n",
    "    username=\"alice123\",\n",
    "    email=\"alice@example.com\",\n",
    "    password=\"strongpass123\",\n",
    "    age=25,\n",
    "    bio=\"Backend Developpeur\"\n",
    ")\n",
    "print(user)"
   ]
  },
  {
   "cell_type": "code",
   "execution_count": null,
   "id": "88e0a705",
   "metadata": {},
   "outputs": [],
   "source": []
  }
 ],
 "metadata": {
  "kernelspec": {
   "display_name": "Python (my_envv)",
   "language": "python",
   "name": "my_envv"
  },
  "language_info": {
   "codemirror_mode": {
    "name": "ipython",
    "version": 3
   },
   "file_extension": ".py",
   "mimetype": "text/x-python",
   "name": "python",
   "nbconvert_exporter": "python",
   "pygments_lexer": "ipython3",
   "version": "3.12.10"
  }
 },
 "nbformat": 4,
 "nbformat_minor": 5
}
